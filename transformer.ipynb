{
 "cells": [
  {
   "cell_type": "code",
   "execution_count": 0,
   "metadata": {
    "application/vnd.databricks.v1+cell": {
     "cellMetadata": {
      "byteLimit": 2048000,
      "rowLimit": 10000
     },
     "inputWidgets": {},
     "nuid": "5542c563-4ff6-41cb-b143-38c0a8c3643b",
     "showTitle": false,
     "tableResultSettingsMap": {},
     "title": ""
    }
   },
   "outputs": [],
   "source": [
    "%run \"./reader_factory\""
   ]
  },
  {
   "cell_type": "code",
   "execution_count": 0,
   "metadata": {
    "application/vnd.databricks.v1+cell": {
     "cellMetadata": {
      "byteLimit": 2048000,
      "rowLimit": 10000
     },
     "inputWidgets": {},
     "nuid": "d29c74df-fbb7-4350-bd29-99d90fc95644",
     "showTitle": false,
     "tableResultSettingsMap": {},
     "title": ""
    }
   },
   "outputs": [],
   "source": [
    "from pyspark.sql.window import Window\n",
    "from pyspark.sql.functions import lead, col, broadcast, collect_set, size, array_contains"
   ]
  },
  {
   "cell_type": "code",
   "execution_count": 0,
   "metadata": {
    "application/vnd.databricks.v1+cell": {
     "cellMetadata": {
      "byteLimit": 2048000,
      "rowLimit": 10000
     },
     "inputWidgets": {},
     "nuid": "d83d5da7-774d-4cb1-aa89-d5ddaa5a71b8",
     "showTitle": false,
     "tableResultSettingsMap": {},
     "title": ""
    }
   },
   "outputs": [],
   "source": [
    "# Abstract class of transformer\n",
    "class AbstractTransformer():\n",
    "    def __init__(self):\n",
    "        pass\n",
    "\n",
    "    def transform(self):\n",
    "        pass\n",
    "\n",
    "# To find the customers who bought airpods after buying an iphone\n",
    "class AirpodsAfteriPhoneTransformer(AbstractTransformer):\n",
    "    def transform(self, inputDFs):\n",
    "        print(\"Transformer for customers who bought airpods right after buying an iphone\")\n",
    "        \n",
    "        transactionInputDF = inputDFs.get(\"transactionInputDF\")         # To get the transactions dataframe stored in inputDFs dictionary\n",
    "        print(\"Transactions dataframe before the tranform: -\")\n",
    "        transactionInputDF.show()\n",
    "\n",
    "        # Defining the window to find out the next product bought after buying the current product\n",
    "        # Here the window is a table with all the rows of one \n",
    "        # customer that is ordered by trasanction date \n",
    "        windowSpec = Window.partitionBy(\"customer_id\").orderBy(\"transaction_date\")\n",
    "\n",
    "        # Getting a new dataframe with an additional column for the next product\n",
    "        transformedDF = transactionInputDF.withColumn(\"next_product_name\", lead(\"product_name\").over(windowSpec))\n",
    "        # withColumn(colmn_name, function to find value to store in column)\n",
    "        # lead -> fucntion to get the value in the next row of a column\n",
    "\n",
    "        print(\"After finding the next product for each customer:-\")\n",
    "        transformedDF.orderBy(\"customer_id\", \"transaction_date\").show()     # transformedDF ordered by customer_id and then transaction_date\n",
    "\n",
    "        print(\"Showing only the transactions of customers who bought \\'AirPods\\' after \\'iPhone\\': -\")\n",
    "        filteredDF = transformedDF.filter(\n",
    "            (col(\"product_name\") == \"iPhone\") & (col(\"next_product_name\") == \"AirPods\")\n",
    "        )\n",
    "        filteredDF.show()\n",
    "\n",
    "        customerInputDF = inputDFs.get(\"customerInputDF\")         # To get the customers dataframe stored in inputDFs dictionary\n",
    "\n",
    "        # Joiing to find the required customers' details\n",
    "        joinedDF = customerInputDF.join(broadcast(filteredDF), \"customer_id\", \"inner\")         \n",
    "        # inner join on \"customer_id\"\n",
    "        # broadcast is used to broadcast customerInputDF (Smaller DF) to the partitions of filteredDF (Bigger DF) to improve performance\n",
    "\n",
    "        resultDF = joinedDF.select(\"customer_id\", \"customer_name\", \"location\")  # .show()      # .select to get specific columns \n",
    "        # print(f\"Joined DF to show required customers\\' details:\\n{resultDF.show()}\")\n",
    "       \n",
    "        return resultDF\n",
    "    \n",
    "class OnlyAirpodsAndiPhoneTransformer(AbstractTransformer):\n",
    "\n",
    "    def transform(self, inputDFs):\n",
    "        \"\"\"\n",
    "        Transform to find the customers who only bought an iPhone and Airpods, nothing else.\n",
    "        \"\"\"\n",
    "        \n",
    "        transactionInputDF = inputDFs.get(\"transactionInputDF\")         # To get the transactions dataframe stored in inputDFs dictionary\n",
    "        print(\"Transactions dataframe before the tranform: -\")\n",
    "        transactionInputDF.show()\n",
    "\n",
    "        # collect_set() used in aggregate to get all unique values of a product for each customer\n",
    "        # .alias is used to give a name to the grouped values column  \n",
    "        groupedDF = transactionInputDF.groupBy(\"customer_id\").agg(\n",
    "            collect_set(\"product_name\").alias(\"products\")\n",
    "        )\n",
    "\n",
    "        print(\"Products bought by each customer:\")\n",
    "        groupedDF.show()\n",
    "\n",
    "        print(\"Showing the customers who bought \\'AirPods\\' and \\'iPhone\\' only: -\")\n",
    "        filteredDF = groupedDF.filter(\n",
    "            (array_contains(col(\"products\"), \"iPhone\")) & \n",
    "            (array_contains(col(\"products\"), \"AirPods\")) & \n",
    "            (size(col(\"products\")) == 2)            \n",
    "            # To ensure that only iphone and airpods are bought, size is used to find number of elements in the set for each customer\n",
    "        )\n",
    "        filteredDF.show()\n",
    "\n",
    "        customerInputDF = inputDFs.get(\"customerInputDF\")         # To get the customers dataframe stored in inputDFs dictionary\n",
    "\n",
    "        # Joiing to find the required customers' details\n",
    "        joinedDF = customerInputDF.join(broadcast(filteredDF), \"customer_id\", \"inner\")         \n",
    "        # inner join on \"customer_id\"\n",
    "        # broadcast is used to broadcast customerInputDF (Smaller DF) to the partitions of filteredDF (Bigger DF) to improve performance\n",
    "\n",
    "        resultDF = joinedDF.select(\"customer_id\", \"customer_name\", \"location\")  # .show()      # .select to get specific columns \n",
    "        # print(f\"Joined DF to show required customers\\' details:\\n{resultDF.show()}\")\n",
    "       \n",
    "        return resultDF"
   ]
  }
 ],
 "metadata": {
  "application/vnd.databricks.v1+notebook": {
   "computePreferences": null,
   "dashboards": [],
   "environmentMetadata": {
    "base_environment": "",
    "client": "1"
   },
   "language": "python",
   "notebookMetadata": {
    "pythonIndentUnit": 4
   },
   "notebookName": "transformer",
   "widgets": {}
  }
 },
 "nbformat": 4,
 "nbformat_minor": 0
}
