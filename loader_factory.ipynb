{
 "cells": [
  {
   "cell_type": "code",
   "execution_count": 0,
   "metadata": {
    "application/vnd.databricks.v1+cell": {
     "cellMetadata": {
      "byteLimit": 2048000,
      "rowLimit": 10000
     },
     "inputWidgets": {},
     "nuid": "7384a691-0f16-4d5a-8910-e6efbebb4094",
     "showTitle": false,
     "tableResultSettingsMap": {},
     "title": ""
    }
   },
   "outputs": [],
   "source": [
    "# Classes for different data sources\n",
    "class DataSink():                 # Abstract class\n",
    "    def __init__(self, df, path, method, params):\n",
    "        self.df = df\n",
    "        self.path = path\n",
    "        self.method = method        # input to spark.write.mode like overwrite, etc\n",
    "        self.params = params\n",
    "\n",
    "    def load_dataframe(self):        # Abstract method to be implemented in the subclasses\n",
    "        raise ValueError(f\"Abstract Method \\\"load_dataframe\\\" has not been implemented\")\n",
    "\n",
    "class loadToDBFS(DataSink):\n",
    "    def load_dataframe(self):\n",
    "        self.df.write.mode(self.method).save(self.path)     \n",
    "        # Since .format is not used, data is stored in the delta table form by default (online says should be parquet)\n",
    "        \n",
    "class loadToDBFSWithPartition(DataSink):\n",
    "    def load_dataframe(self):\n",
    "        partitionByColumns = self.params.get(\"partitionByColumns\")      # List of columns to partition by\n",
    "        self.df.write.mode(self.method).partitionBy(*partitionByColumns).save(self.path)\n",
    "        # Since .format is not used, data is stored in the delta table form by default (online says should be parquet)\n",
    "\n",
    "class loadToDeltaTable(DataSink):\n",
    "    def load_dataframe(self):\n",
    "        self.df.write.format(\"delta\").mode(self.method).saveAsTable(self.path)"
   ]
  },
  {
   "cell_type": "code",
   "execution_count": 0,
   "metadata": {
    "application/vnd.databricks.v1+cell": {
     "cellMetadata": {
      "byteLimit": 2048000,
      "rowLimit": 10000
     },
     "inputWidgets": {},
     "nuid": "033e120e-efb1-41b8-9fd7-a7ff1e6380c6",
     "showTitle": false,
     "tableResultSettingsMap": {},
     "title": ""
    }
   },
   "outputs": [],
   "source": [
    "def get_data_sink(sink_type, df, path, method, params = None):\n",
    "    if(sink_type == \"dbfs\"):\n",
    "        return loadToDBFS(df, path, method, params)\n",
    "    elif(sink_type == \"dbfs_with_partition\"):\n",
    "        return loadToDBFSWithPartition(df, path, method, params)\n",
    "    elif(sink_type == \"delta\"):\n",
    "        return loadToDeltaTable(df, path, method, params)\n",
    "    else:\n",
    "        return ValueError(f\"Data sink has not been implemented for sink type : {sink_type}\")"
   ]
  }
 ],
 "metadata": {
  "application/vnd.databricks.v1+notebook": {
   "computePreferences": null,
   "dashboards": [],
   "environmentMetadata": {
    "base_environment": "",
    "client": "1"
   },
   "language": "python",
   "notebookMetadata": {
    "pythonIndentUnit": 4
   },
   "notebookName": "loader_factory",
   "widgets": {}
  }
 },
 "nbformat": 4,
 "nbformat_minor": 0
}
