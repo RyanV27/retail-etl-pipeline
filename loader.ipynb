{
 "cells": [
  {
   "cell_type": "code",
   "execution_count": 0,
   "metadata": {
    "application/vnd.databricks.v1+cell": {
     "cellMetadata": {
      "byteLimit": 2048000,
      "rowLimit": 10000
     },
     "inputWidgets": {},
     "nuid": "523f2f71-e523-429d-8c32-49242d775c4a",
     "showTitle": false,
     "tableResultSettingsMap": {},
     "title": ""
    }
   },
   "outputs": [],
   "source": [
    "%run \"./loader_factory\""
   ]
  },
  {
   "cell_type": "code",
   "execution_count": 0,
   "metadata": {
    "application/vnd.databricks.v1+cell": {
     "cellMetadata": {
      "byteLimit": 2048000,
      "rowLimit": 10000
     },
     "inputWidgets": {},
     "nuid": "cd01ed48-b2e2-40b1-b5a5-a0b71e56881a",
     "showTitle": false,
     "tableResultSettingsMap": {},
     "title": ""
    }
   },
   "outputs": [],
   "source": [
    "class AbstractLoader():\n",
    "    def __init__(self, transformedDF):\n",
    "        self.transformedDF = transformedDF\n",
    "\n",
    "    def sink(self):\n",
    "        pass\n",
    "\n",
    "# Stores the result in Datalake (DBFS) as parquet files\n",
    "class AirpodsAfteriPhoneLoader(AbstractLoader):\n",
    "    def sink(self):\n",
    "        # print(f\"Transformed DF in loader:\\n{self.transformedDF.show()}\")\n",
    "\n",
    "        get_data_sink(\n",
    "            sink_type = \"dbfs\", \n",
    "            df = self.transformedDF, \n",
    "            path = \"dbfs:/FileStore/tables/apple_analysis/output/airpodsAfteriPhone\", \n",
    "            method = \"overwrite\",\n",
    "            params = None\n",
    "        ).load_dataframe()\n",
    "\n",
    "# Storing the result in Datalake (DBFS) as parquet files and in delta table (check Catalog -> Databases)\n",
    "class OnlyAirpodsAndiPhoneLoader(AbstractLoader):\n",
    "    def sink(self):\n",
    "        partition_params = {\"partitionByColumns\" : [\"location\"]}\n",
    "\n",
    "        # DBFS with partition\n",
    "        get_data_sink(\n",
    "            sink_type = \"dbfs_with_partition\", \n",
    "            df = self.transformedDF, \n",
    "            path = \"dbfs:/FileStore/tables/apple_analysis/output/airpodsOnlyiPhone\", \n",
    "            method = \"overwrite\",\n",
    "            params = partition_params\n",
    "        ).load_dataframe()\n",
    "\n",
    "        # Delta table\n",
    "        get_data_sink(\n",
    "            sink_type = \"delta\", \n",
    "            df = self.transformedDF, \n",
    "            path = \"default.onlyAirpodsAndiPhone\", \n",
    "            method = \"overwrite\",\n",
    "            params = None\n",
    "        ).load_dataframe()"
   ]
  }
 ],
 "metadata": {
  "application/vnd.databricks.v1+notebook": {
   "computePreferences": null,
   "dashboards": [],
   "environmentMetadata": {
    "base_environment": "",
    "client": "1"
   },
   "language": "python",
   "notebookMetadata": {
    "pythonIndentUnit": 4
   },
   "notebookName": "loader",
   "widgets": {}
  }
 },
 "nbformat": 4,
 "nbformat_minor": 0
}
