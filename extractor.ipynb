{
 "cells": [
  {
   "cell_type": "code",
   "execution_count": 0,
   "metadata": {
    "application/vnd.databricks.v1+cell": {
     "cellMetadata": {},
     "inputWidgets": {},
     "nuid": "ec6e88b4-b850-4f7a-b2f8-2b4a2041cec4",
     "showTitle": false,
     "tableResultSettingsMap": {},
     "title": ""
    }
   },
   "outputs": [],
   "source": [
    "class AbstractExtractor():\n",
    "    \"\"\"\n",
    "        Abstract class\n",
    "    \"\"\"\n",
    "    \n",
    "    def __init__(self):\n",
    "        pass\n",
    "\n",
    "    def extract(self):\n",
    "        pass\n",
    "\n",
    "class AirpodsAfteriPhoneExtractor(AbstractExtractor):\n",
    "    def extract(self):\n",
    "        # Getting transactions data from csv file stored in DBFS\n",
    "        transactionInputDF = get_data_source(\n",
    "            data_type = \"csv\", \n",
    "            file_path = \"dbfs:/FileStore/tables/Transaction_Updated.csv\"        # Path of file uploaded in DBFS\n",
    "        ).get_dataframe()\n",
    "\n",
    "        # Testing orderby\n",
    "        # transactionInputDF.orderBy(\"customer_id\", \"transaction_date\").show()\n",
    "\n",
    "        # Getting customer data from delta table stored in database (created in Catalog section)\n",
    "        customerInputDF = get_data_source(\n",
    "            data_type = \"delta\",\n",
    "            # file_path = \"default.customer_delta_table_persist\"\n",
    "            file_path = \"customer_delta_table_persist\"\n",
    "        ).get_dataframe()\n",
    "\n",
    "        print(\"Customers dataframe: -\")\n",
    "        customerInputDF.show()\n",
    "\n",
    "        inputDFs = {\n",
    "            \"transactionInputDF\" : transactionInputDF,\n",
    "            \"customerInputDF\" : customerInputDF\n",
    "        }\n",
    "\n",
    "        return inputDFs"
   ]
  }
 ],
 "metadata": {
  "application/vnd.databricks.v1+notebook": {
   "computePreferences": null,
   "dashboards": [],
   "environmentMetadata": {
    "base_environment": "",
    "client": "1"
   },
   "language": "python",
   "notebookMetadata": {
    "pythonIndentUnit": 4
   },
   "notebookName": "extractor",
   "widgets": {}
  }
 },
 "nbformat": 4,
 "nbformat_minor": 0
}
