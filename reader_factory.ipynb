{
 "cells": [
  {
   "cell_type": "markdown",
   "metadata": {
    "application/vnd.databricks.v1+cell": {
     "cellMetadata": {
      "byteLimit": 2048000,
      "rowLimit": 10000
     },
     "inputWidgets": {},
     "nuid": "780ff996-d340-4722-a511-81e884e3b018",
     "showTitle": false,
     "tableResultSettingsMap": {},
     "title": ""
    }
   },
   "source": [
    "Following the factory method pattern, we create a reader factories to read data from different data sources."
   ]
  },
  {
   "cell_type": "code",
   "execution_count": 0,
   "metadata": {
    "application/vnd.databricks.v1+cell": {
     "cellMetadata": {
      "byteLimit": 2048000,
      "rowLimit": 10000
     },
     "inputWidgets": {},
     "nuid": "9b3cca7e-c83d-4d6a-a231-e2fb68d767ba",
     "showTitle": false,
     "tableResultSettingsMap": {},
     "title": ""
    }
   },
   "outputs": [],
   "source": [
    "# Classes for different data sources\n",
    "class DataSource():                 # Abstract class\n",
    "    def __init__(self, path):\n",
    "        self.path = path\n",
    "\n",
    "    def get_dataframe(self):        # Abstract method to be implemented in the subclasses\n",
    "        raise ValueError(f\"Abstract Method \\\"get_dataframe\\\" has not been implemented\")\n",
    "\n",
    "class CSVDataSource(DataSource):    # Getting from csv file stored in DBFS\n",
    "    def get_dataframe(self):\n",
    "        return (\n",
    "            spark.read.format(\"csv\").option(\"header\", True).load(self.path)     \n",
    "            # .option : To ensure that the first row in the csv file is treated as the header\n",
    "        )\n",
    "\n",
    "class ParquetDataSource(DataSource):\n",
    "    def get_dataframe(self):\n",
    "        return (\n",
    "            spark.read.format(\"parquet\").load(self.path)\n",
    "        )\n",
    "\n",
    "class DeltaDataSource(DataSource):        # Getting data from table stored in the databricks database (created earlier in Catalog section with the csv uploaded to DBFS)\n",
    "    def get_dataframe(self):\n",
    "        table_name = self.path\n",
    "\n",
    "        return (\n",
    "            spark.read.table(table_name)\n",
    "        )"
   ]
  },
  {
   "cell_type": "code",
   "execution_count": 0,
   "metadata": {
    "application/vnd.databricks.v1+cell": {
     "cellMetadata": {
      "byteLimit": 2048000,
      "rowLimit": 10000
     },
     "inputWidgets": {},
     "nuid": "253f43a7-2abf-45d9-bf96-f5afc5248b76",
     "showTitle": false,
     "tableResultSettingsMap": {},
     "title": ""
    }
   },
   "outputs": [],
   "source": [
    "# Function to get the required class\n",
    "def get_data_source(data_type, file_path):\n",
    "    if(data_type == \"csv\"):\n",
    "        return CSVDataSource(file_path)\n",
    "    elif(data_type == \"parquet\"):\n",
    "        return ParquetDataSource(file_path)\n",
    "    elif(data_type == \"delta\"):\n",
    "        return DeltaDataSource(file_path)\n",
    "    else:\n",
    "        raise ValueError(f\"Data Source not implemented for data type : {data_type}\")\n",
    "    "
   ]
  }
 ],
 "metadata": {
  "application/vnd.databricks.v1+notebook": {
   "computePreferences": null,
   "dashboards": [],
   "environmentMetadata": {
    "base_environment": "",
    "client": "1"
   },
   "language": "python",
   "notebookMetadata": {
    "pythonIndentUnit": 4
   },
   "notebookName": "reader_factory",
   "widgets": {}
  }
 },
 "nbformat": 4,
 "nbformat_minor": 0
}
